{
  "nbformat": 4,
  "nbformat_minor": 0,
  "metadata": {
    "colab": {
      "provenance": [],
      "authorship_tag": "ABX9TyMJJBelH4sTndhESB+/ZLr2",
      "include_colab_link": true
    },
    "kernelspec": {
      "name": "python3",
      "display_name": "Python 3"
    },
    "language_info": {
      "name": "python"
    }
  },
  "cells": [
    {
      "cell_type": "markdown",
      "metadata": {
        "id": "view-in-github",
        "colab_type": "text"
      },
      "source": [
        "<a href=\"https://colab.research.google.com/github/aakhterov/articles/blob/master/A%20Neural%20Probabilistic%20Language%20Model/A_Neural_Probabilistic_Language_Model.ipynb\" target=\"_parent\"><img src=\"https://colab.research.google.com/assets/colab-badge.svg\" alt=\"Open In Colab\"/></a>"
      ]
    },
    {
      "cell_type": "markdown",
      "source": [
        "TODO\n",
        "\n",
        "Add comments"
      ],
      "metadata": {
        "id": "fU25l5Bj80Sn"
      }
    },
    {
      "cell_type": "code",
      "execution_count": 22,
      "metadata": {
        "id": "tDPy58hikqy6"
      },
      "outputs": [],
      "source": [
        "import re\n",
        "import numpy as np\n",
        "import seaborn as sns\n",
        "import matplotlib.pyplot as plt\n",
        "import tensorflow as tf\n",
        "from nltk import FreqDist\n",
        "from tensorflow.keras import Model\n",
        "from tensorflow.keras.layers import Embedding, Dense, TextVectorization, Input, Flatten\n",
        "from tensorflow.keras.activations import softmax\n",
        "from sklearn.model_selection import train_test_split"
      ]
    },
    {
      "cell_type": "code",
      "source": [
        "# Mount a Google drive\n",
        "from google.colab import drive\n",
        "drive.mount('/content/drive')"
      ],
      "metadata": {
        "colab": {
          "base_uri": "https://localhost:8080/"
        },
        "id": "7alO1R1bwNCY",
        "outputId": "8ccdffcb-c0c0-44c1-d954-751952adf0ef"
      },
      "execution_count": 2,
      "outputs": [
        {
          "output_type": "stream",
          "name": "stdout",
          "text": [
            "Mounted at /content/drive\n"
          ]
        }
      ]
    },
    {
      "cell_type": "code",
      "source": [
        "n_before = 2\n",
        "m = 20\n",
        "h = 30\n",
        "words_freq_thr = 2\n",
        "filler_for_rare_words = 'RARE_WORD'"
      ],
      "metadata": {
        "id": "I0RJNJEl4icG"
      },
      "execution_count": 114,
      "outputs": []
    },
    {
      "cell_type": "code",
      "source": [
        "paragraphs = []\n",
        "path_to_file = \"/content/drive/MyDrive/Colab Notebooks/Data/Asimov_Isaac_I_Robot.txt\"\n",
        "with open(path_to_file, mode='r') as file:\n",
        "  for line in file:\n",
        "    if line[:-1].strip() != '':\n",
        "      paragraphs.append(line[:-1])"
      ],
      "metadata": {
        "id": "Y-dPwZh3wahl"
      },
      "execution_count": 3,
      "outputs": []
    },
    {
      "cell_type": "code",
      "source": [
        "paragraphs[:5]"
      ],
      "metadata": {
        "colab": {
          "base_uri": "https://localhost:8080/"
        },
        "id": "MLl4qr3Ow0Qf",
        "outputId": "9eec723f-866e-4f67-b1b0-bd7a0aaceafb"
      },
      "execution_count": 4,
      "outputs": [
        {
          "output_type": "execute_result",
          "data": {
            "text/plain": [
              "['Isaac Asimov',\n",
              " 'I, Robot',\n",
              " 'Introduction',\n",
              " \"I LOOKED AT MY NOTES AND I DIDN'T LIKE THEM. I'd spent three days at U. S. Robots and might as well have spent them at home with the Encyclopedia Tellurica.\",\n",
              " \"Susan Calvin had been born in the year 1982, they said, which made her seventy-five now. Everyone knew that. Appropriately enough, U. S. Robot and Mechanical Men, Inc. was seventy-five also, since it had been in the year of Dr. Calvin's birth that Lawrence Robertson had first taken out incorporation papers for what eventually became the strangest industrial giant in man's history. Well, everyone knew that, too.\"]"
            ]
          },
          "metadata": {},
          "execution_count": 4
        }
      ]
    },
    {
      "cell_type": "code",
      "source": [
        "sentences = []\n",
        "for par in paragraphs:\n",
        "  sentences += [s.strip() for s in re.split(r'\\.|!|\\?', par) if s.strip()]"
      ],
      "metadata": {
        "id": "RFt6AgR0xxcX"
      },
      "execution_count": 85,
      "outputs": []
    },
    {
      "cell_type": "code",
      "source": [
        "sentences[:10]"
      ],
      "metadata": {
        "colab": {
          "base_uri": "https://localhost:8080/"
        },
        "id": "by12f6J5zDIR",
        "outputId": "0cb9ae16-c78f-42de-d5a1-e1e4f2fb11f3"
      },
      "execution_count": 86,
      "outputs": [
        {
          "output_type": "execute_result",
          "data": {
            "text/plain": [
              "['Isaac Asimov',\n",
              " 'I, Robot',\n",
              " 'Introduction',\n",
              " \"I LOOKED AT MY NOTES AND I DIDN'T LIKE THEM\",\n",
              " \"I'd spent three days at U\",\n",
              " 'S',\n",
              " 'Robots and might as well have spent them at home with the Encyclopedia Tellurica',\n",
              " 'Susan Calvin had been born in the year 1982, they said, which made her seventy-five now',\n",
              " 'Everyone knew that',\n",
              " 'Appropriately enough, U']"
            ]
          },
          "metadata": {},
          "execution_count": 86
        }
      ]
    },
    {
      "cell_type": "code",
      "source": [
        "# sentences = [\"I like dog\", \"i love Coffee, and 4 milk\", \"i hate milk\"]"
      ],
      "metadata": {
        "id": "lDR8vLnulQQi"
      },
      "execution_count": 57,
      "outputs": []
    },
    {
      "cell_type": "code",
      "source": [
        "data = []\n",
        "all_words = []\n",
        "for sent in sentences:\n",
        "  words = re.sub(r'[^a-z0-9\\s]', ' ', sent.lower()).split()\n",
        "  all_words += words\n",
        "  for i in range(0, len(words)-n_before):\n",
        "    data.append(' '.join(words[i:i+n_before+1]))"
      ],
      "metadata": {
        "id": "QDAYpaw7WOiX"
      },
      "execution_count": 115,
      "outputs": []
    },
    {
      "cell_type": "code",
      "source": [
        "data[:5]"
      ],
      "metadata": {
        "colab": {
          "base_uri": "https://localhost:8080/"
        },
        "id": "f5lYv_2ijY88",
        "outputId": "3d5200d6-c95a-435a-c8df-6a8fc2ccd0b6"
      },
      "execution_count": 116,
      "outputs": [
        {
          "output_type": "execute_result",
          "data": {
            "text/plain": [
              "['i looked at', 'looked at my', 'at my notes', 'my notes and', 'notes and i']"
            ]
          },
          "metadata": {},
          "execution_count": 116
        }
      ]
    },
    {
      "cell_type": "code",
      "source": [
        "len(data)"
      ],
      "metadata": {
        "colab": {
          "base_uri": "https://localhost:8080/"
        },
        "id": "H7fsnwq8YXkp",
        "outputId": "5de9acb3-68a7-47e3-dd8b-c334ec03aa46"
      },
      "execution_count": 117,
      "outputs": [
        {
          "output_type": "execute_result",
          "data": {
            "text/plain": [
              "58981"
            ]
          },
          "metadata": {},
          "execution_count": 117
        }
      ]
    },
    {
      "cell_type": "code",
      "source": [
        "freq = FreqDist(all_words)"
      ],
      "metadata": {
        "id": "DE2GeJCZjpuq"
      },
      "execution_count": 118,
      "outputs": []
    },
    {
      "cell_type": "code",
      "source": [
        "vocabulary = [pair[0] for pair in freq.most_common() if pair[1] > 3]"
      ],
      "metadata": {
        "id": "rFK0TVZKkgxy"
      },
      "execution_count": 119,
      "outputs": []
    },
    {
      "cell_type": "code",
      "source": [
        "len(vocabulary), len(freq)"
      ],
      "metadata": {
        "colab": {
          "base_uri": "https://localhost:8080/"
        },
        "id": "MdFFwHsLmCOU",
        "outputId": "8222d16f-3562-4f30-cf8c-b4e9915e8a03"
      },
      "execution_count": 120,
      "outputs": [
        {
          "output_type": "execute_result",
          "data": {
            "text/plain": [
              "(1937, 7363)"
            ]
          },
          "metadata": {},
          "execution_count": 120
        }
      ]
    },
    {
      "cell_type": "code",
      "source": [
        "for idx, collacation in enumerate(data):\n",
        "  new = []\n",
        "  for word in collacation.split():\n",
        "    if word in vocabulary:\n",
        "      new.append(word)\n",
        "    else:\n",
        "      new.append(filler_for_rare_words)\n",
        "  data[idx] = ' '.join(new)"
      ],
      "metadata": {
        "id": "GF6AaLLlmJrm"
      },
      "execution_count": 121,
      "outputs": []
    },
    {
      "cell_type": "code",
      "source": [],
      "metadata": {
        "id": "0tFJt5X4n4O3"
      },
      "execution_count": null,
      "outputs": []
    },
    {
      "cell_type": "code",
      "source": [
        "text_vectorization = TextVectorization()\n",
        "text_vectorization.adapt(data, batch_size=64)\n",
        "sentences_indices = text_vectorization(data)\n",
        "sentences_indices.shape"
      ],
      "metadata": {
        "colab": {
          "base_uri": "https://localhost:8080/"
        },
        "id": "0CIFziPC6PlY",
        "outputId": "8143f44c-17aa-4988-8956-b7535c57466a"
      },
      "execution_count": 122,
      "outputs": [
        {
          "output_type": "execute_result",
          "data": {
            "text/plain": [
              "TensorShape([58981, 3])"
            ]
          },
          "metadata": {},
          "execution_count": 122
        }
      ]
    },
    {
      "cell_type": "code",
      "source": [
        "vocabulary = text_vectorization.get_vocabulary()"
      ],
      "metadata": {
        "id": "zz6GTMTHdYEm"
      },
      "execution_count": 123,
      "outputs": []
    },
    {
      "cell_type": "code",
      "source": [
        "vocabulary[:10]"
      ],
      "metadata": {
        "colab": {
          "base_uri": "https://localhost:8080/"
        },
        "id": "Bm6T7lHcnqq-",
        "outputId": "caa69eaf-70aa-422f-aa60-d9c8570c634e"
      },
      "execution_count": 124,
      "outputs": [
        {
          "output_type": "execute_result",
          "data": {
            "text/plain": [
              "['', '[UNK]', 'rareword', 'the', 'and', 'of', 'a', 'to', 'you', 'in']"
            ]
          },
          "metadata": {},
          "execution_count": 124
        }
      ]
    },
    {
      "cell_type": "code",
      "source": [
        "X, y = sentences_indices[:, :2].numpy(), sentences_indices[:, 2].numpy()"
      ],
      "metadata": {
        "id": "NRtMLi6-Z00q"
      },
      "execution_count": 137,
      "outputs": []
    },
    {
      "cell_type": "code",
      "source": [
        "X_train, X_test, y_train, y_test = train_test_split(X, y, test_size=0.2)"
      ],
      "metadata": {
        "id": "vZ1b1_D20ABz"
      },
      "execution_count": 138,
      "outputs": []
    },
    {
      "cell_type": "code",
      "source": [
        "def NPLM(input_shape, vocabulary, embedding_dim, h):\n",
        "  inputs = Input(input_shape)\n",
        "  x = Embedding(input_dim=len(vocabulary), output_dim=embedding_dim)(inputs)\n",
        "  x = Flatten()(x)\n",
        "  out1 = Dense(units=h, use_bias=True)(x)\n",
        "  out1 = tf.math.tanh(out1)\n",
        "  out1 = Dense(units=len(vocabulary), use_bias=False)(out1)\n",
        "  out2 = Dense(units=len(vocabulary), use_bias=True)(x)\n",
        "  y = out1 + out2\n",
        "  prob = softmax(y)\n",
        "  model = Model(inputs=inputs, outputs=prob)\n",
        "  return model"
      ],
      "metadata": {
        "id": "aOlfpu-Ia63j"
      },
      "execution_count": 139,
      "outputs": []
    },
    {
      "cell_type": "code",
      "source": [
        "model = NPLM(input_shape=((n_before)), vocabulary=vocabulary, embedding_dim=m, h=h)\n",
        "model.summary()"
      ],
      "metadata": {
        "colab": {
          "base_uri": "https://localhost:8080/"
        },
        "id": "lAv-9iYQa7AO",
        "outputId": "2e4ed13e-c411-45dc-fd19-acc85ae71d71"
      },
      "execution_count": 140,
      "outputs": [
        {
          "output_type": "stream",
          "name": "stdout",
          "text": [
            "Model: \"model_10\"\n",
            "__________________________________________________________________________________________________\n",
            " Layer (type)                   Output Shape         Param #     Connected to                     \n",
            "==================================================================================================\n",
            " input_11 (InputLayer)          [(None, 2)]          0           []                               \n",
            "                                                                                                  \n",
            " embedding_10 (Embedding)       (None, 2, 20)        38780       ['input_11[0][0]']               \n",
            "                                                                                                  \n",
            " flatten_10 (Flatten)           (None, 40)           0           ['embedding_10[0][0]']           \n",
            "                                                                                                  \n",
            " dense_30 (Dense)               (None, 30)           1230        ['flatten_10[0][0]']             \n",
            "                                                                                                  \n",
            " tf.math.tanh_10 (TFOpLambda)   (None, 30)           0           ['dense_30[0][0]']               \n",
            "                                                                                                  \n",
            " dense_31 (Dense)               (None, 1939)         58170       ['tf.math.tanh_10[0][0]']        \n",
            "                                                                                                  \n",
            " dense_32 (Dense)               (None, 1939)         79499       ['flatten_10[0][0]']             \n",
            "                                                                                                  \n",
            " tf.__operators__.add_10 (TFOpL  (None, 1939)        0           ['dense_31[0][0]',               \n",
            " ambda)                                                           'dense_32[0][0]']               \n",
            "                                                                                                  \n",
            " tf.nn.softmax_10 (TFOpLambda)  (None, 1939)         0           ['tf.__operators__.add_10[0][0]']\n",
            "                                                                                                  \n",
            "==================================================================================================\n",
            "Total params: 177,679\n",
            "Trainable params: 177,679\n",
            "Non-trainable params: 0\n",
            "__________________________________________________________________________________________________\n"
          ]
        }
      ]
    },
    {
      "cell_type": "code",
      "source": [
        "model.compile(loss='sparse_categorical_crossentropy', metrics=['sparse_categorical_accuracy'])\n",
        "history = model.fit(X_train, y_train,\n",
        "                    epochs=10,\n",
        "                    batch_size=32,\n",
        "                    validation_data=(X_test, y_test)\n",
        "                    )"
      ],
      "metadata": {
        "colab": {
          "base_uri": "https://localhost:8080/"
        },
        "id": "vm-cSu7LnEKg",
        "outputId": "9e3dec90-c324-4974-81cc-76ffeba1ad07"
      },
      "execution_count": 141,
      "outputs": [
        {
          "output_type": "stream",
          "name": "stdout",
          "text": [
            "Epoch 1/10\n",
            "1475/1475 [==============================] - 16s 11ms/step - loss: 5.9060 - sparse_categorical_accuracy: 0.1229 - val_loss: 5.5601 - val_sparse_categorical_accuracy: 0.1300\n",
            "Epoch 2/10\n",
            "1475/1475 [==============================] - 14s 9ms/step - loss: 5.3832 - sparse_categorical_accuracy: 0.1472 - val_loss: 5.3220 - val_sparse_categorical_accuracy: 0.1501\n",
            "Epoch 3/10\n",
            "1475/1475 [==============================] - 16s 11ms/step - loss: 5.2150 - sparse_categorical_accuracy: 0.1625 - val_loss: 5.2489 - val_sparse_categorical_accuracy: 0.1558\n",
            "Epoch 4/10\n",
            "1475/1475 [==============================] - 20s 14ms/step - loss: 5.1471 - sparse_categorical_accuracy: 0.1682 - val_loss: 5.2087 - val_sparse_categorical_accuracy: 0.1590\n",
            "Epoch 5/10\n",
            "1475/1475 [==============================] - 17s 11ms/step - loss: 5.1009 - sparse_categorical_accuracy: 0.1722 - val_loss: 5.1873 - val_sparse_categorical_accuracy: 0.1605\n",
            "Epoch 6/10\n",
            "1475/1475 [==============================] - 14s 10ms/step - loss: 5.0604 - sparse_categorical_accuracy: 0.1770 - val_loss: 5.1594 - val_sparse_categorical_accuracy: 0.1617\n",
            "Epoch 7/10\n",
            "1475/1475 [==============================] - 16s 11ms/step - loss: 5.0271 - sparse_categorical_accuracy: 0.1802 - val_loss: 5.1510 - val_sparse_categorical_accuracy: 0.1621\n",
            "Epoch 8/10\n",
            "1475/1475 [==============================] - 20s 13ms/step - loss: 5.0003 - sparse_categorical_accuracy: 0.1833 - val_loss: 5.1414 - val_sparse_categorical_accuracy: 0.1648\n",
            "Epoch 9/10\n",
            "1475/1475 [==============================] - 14s 9ms/step - loss: 4.9742 - sparse_categorical_accuracy: 0.1865 - val_loss: 5.1353 - val_sparse_categorical_accuracy: 0.1650\n",
            "Epoch 10/10\n",
            "1475/1475 [==============================] - 14s 9ms/step - loss: 4.9549 - sparse_categorical_accuracy: 0.1882 - val_loss: 5.1269 - val_sparse_categorical_accuracy: 0.1693\n"
          ]
        }
      ]
    },
    {
      "cell_type": "code",
      "source": [
        "_, ax = plt.subplots(1, 1)\n",
        "sns.lineplot(data=np.exp(history.history['loss']), ax=ax)\n",
        "sns.lineplot(data=np.exp(history.history['val_loss']), ax=ax)"
      ],
      "metadata": {
        "colab": {
          "base_uri": "https://localhost:8080/",
          "height": 448
        },
        "id": "_ZKrP4eM90wO",
        "outputId": "eb7202b9-babe-421d-95a9-e9b0b1d05730"
      },
      "execution_count": 142,
      "outputs": [
        {
          "output_type": "execute_result",
          "data": {
            "text/plain": [
              "<Axes: >"
            ]
          },
          "metadata": {},
          "execution_count": 142
        },
        {
          "output_type": "display_data",
          "data": {
            "text/plain": [
              "<Figure size 640x480 with 1 Axes>"
            ],
            "image/png": "[encoded data removed]"
          },
          "metadata": {}
        }
      ]
    },
    {
      "cell_type": "code",
      "source": [],
      "metadata": {
        "id": "cnqpFfCulQih"
      },
      "execution_count": null,
      "outputs": []
    }
  ]
}