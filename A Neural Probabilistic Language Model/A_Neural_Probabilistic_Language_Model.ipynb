{
  "nbformat": 4,
  "nbformat_minor": 0,
  "metadata": {
    "colab": {
      "provenance": [],
      "authorship_tag": "ABX9TyNRjgaK97reTtK7f2U2RCA9",
      "include_colab_link": true
    },
    "kernelspec": {
      "name": "python3",
      "display_name": "Python 3"
    },
    "language_info": {
      "name": "python"
    }
  },
  "cells": [
    {
      "cell_type": "markdown",
      "metadata": {
        "id": "view-in-github",
        "colab_type": "text"
      },
      "source": [
        "<a href=\"https://colab.research.google.com/github/aakhterov/papers/blob/master/A%20Neural%20Probabilistic%20Language%20Model/A_Neural_Probabilistic_Language_Model.ipynb\" target=\"_parent\"><img src=\"https://colab.research.google.com/assets/colab-badge.svg\" alt=\"Open In Colab\"/></a>"
      ]
    },
    {
      "cell_type": "markdown",
      "source": [
        "**A NEURAL PROBABILISTIC LANGUAGE MODEL (2003)**\n",
        "\n",
        "Implementation a language model from this paper using Tensorflow.\n",
        "\n",
        "Paper:  [A NEURAL PROBABILISTIC LANGUAGE MODEL](http://www.jmlr.org/papers/volume3/bengio03a/bengio03a.pdf)\n",
        "\n",
        "Similar implementation using PyTorch: https://github.com/graykode/nlp-tutorial"
      ],
      "metadata": {
        "id": "fU25l5Bj80Sn"
      }
    },
    {
      "cell_type": "code",
      "execution_count": null,
      "metadata": {
        "id": "tDPy58hikqy6"
      },
      "outputs": [],
      "source": [
        "import re\n",
        "import numpy as np\n",
        "import seaborn as sns\n",
        "import matplotlib.pyplot as plt\n",
        "import tensorflow as tf\n",
        "from nltk import FreqDist\n",
        "from tensorflow.keras import Model\n",
        "from tensorflow.keras.layers import Embedding, Dense, TextVectorization, Input, Flatten\n",
        "from tensorflow.keras.activations import softmax\n",
        "from sklearn.model_selection import train_test_split"
      ]
    },
    {
      "cell_type": "code",
      "source": [
        "# Mount a Google drive\n",
        "from google.colab import drive\n",
        "drive.mount('/content/drive')"
      ],
      "metadata": {
        "colab": {
          "base_uri": "https://localhost:8080/"
        },
        "id": "7alO1R1bwNCY",
        "outputId": "e2f7ab79-7f08-4158-e245-7b344dbd3d8d"
      },
      "execution_count": null,
      "outputs": [
        {
          "output_type": "stream",
          "name": "stdout",
          "text": [
            "Drive already mounted at /content/drive; to attempt to forcibly remount, call drive.mount(\"/content/drive\", force_remount=True).\n"
          ]
        }
      ]
    },
    {
      "cell_type": "code",
      "source": [
        "# parameters\n",
        "n_before = 2 # n-1 in paper\n",
        "m = 20 # m in paper\n",
        "h = 30 # h in paper\n",
        "words_freq_thr = 2 # rare words with frequency <= this threshold are replacing by the token filler_for_rare_words\n",
        "filler_for_rare_words = 'rareword' # filler for rare words"
      ],
      "metadata": {
        "id": "I0RJNJEl4icG"
      },
      "execution_count": null,
      "outputs": []
    },
    {
      "cell_type": "code",
      "source": [
        "# read book from Google Disk\n",
        "paragraphs = []\n",
        "path_to_file = \"/content/drive/MyDrive/Colab Notebooks/Data/Asimov_Isaac_I_Robot.txt\"\n",
        "with open(path_to_file, mode='r') as file:\n",
        "  for line in file:\n",
        "    if line[:-1].strip() != '': # line[:-1] because the last symbol is '\\n'\n",
        "      paragraphs.append(line[:-1])"
      ],
      "metadata": {
        "id": "Y-dPwZh3wahl"
      },
      "execution_count": null,
      "outputs": []
    },
    {
      "cell_type": "code",
      "source": [
        "# take a look at the first 5 paragraphs\n",
        "paragraphs[:5]"
      ],
      "metadata": {
        "colab": {
          "base_uri": "https://localhost:8080/"
        },
        "id": "MLl4qr3Ow0Qf",
        "outputId": "e9cc1ede-4f47-4285-8e3b-e2b8037b049c"
      },
      "execution_count": null,
      "outputs": [
        {
          "output_type": "execute_result",
          "data": {
            "text/plain": [
              "['Isaac Asimov',\n",
              " 'I, Robot',\n",
              " 'Introduction',\n",
              " \"I LOOKED AT MY NOTES AND I DIDN'T LIKE THEM. I'd spent three days at U. S. Robots and might as well have spent them at home with the Encyclopedia Tellurica.\",\n",
              " \"Susan Calvin had been born in the year 1982, they said, which made her seventy-five now. Everyone knew that. Appropriately enough, U. S. Robot and Mechanical Men, Inc. was seventy-five also, since it had been in the year of Dr. Calvin's birth that Lawrence Robertson had first taken out incorporation papers for what eventually became the strangest industrial giant in man's history. Well, everyone knew that, too.\"]"
            ]
          },
          "metadata": {},
          "execution_count": 29
        }
      ]
    },
    {
      "cell_type": "code",
      "source": [
        "# split paragraphs on sentences using regular expressions.\n",
        "# We consider that at the end of the sentence can be one of the following symbols - '.', '?' or '!'.\n",
        "sentences = []\n",
        "for par in paragraphs:\n",
        "  sentences += [s.strip() for s in re.split(r'\\.|!|\\?', par) if s.strip()]"
      ],
      "metadata": {
        "id": "RFt6AgR0xxcX"
      },
      "execution_count": null,
      "outputs": []
    },
    {
      "cell_type": "code",
      "source": [
        "# take a look at the sentences\n",
        "sentences[:10]"
      ],
      "metadata": {
        "colab": {
          "base_uri": "https://localhost:8080/"
        },
        "id": "by12f6J5zDIR",
        "outputId": "bf4ef94b-97b4-4ce4-ef8c-90a251f3b3b0"
      },
      "execution_count": null,
      "outputs": [
        {
          "output_type": "execute_result",
          "data": {
            "text/plain": [
              "['Isaac Asimov',\n",
              " 'I, Robot',\n",
              " 'Introduction',\n",
              " \"I LOOKED AT MY NOTES AND I DIDN'T LIKE THEM\",\n",
              " \"I'd spent three days at U\",\n",
              " 'S',\n",
              " 'Robots and might as well have spent them at home with the Encyclopedia Tellurica',\n",
              " 'Susan Calvin had been born in the year 1982, they said, which made her seventy-five now',\n",
              " 'Everyone knew that',\n",
              " 'Appropriately enough, U']"
            ]
          },
          "metadata": {},
          "execution_count": 31
        }
      ]
    },
    {
      "cell_type": "code",
      "source": [
        "# preprocessing and making dataset:\n",
        "# 1) remove all except letters and numbers\n",
        "# 2) split the sentences on n-gramms: n_before + 1 words\n",
        "data = []\n",
        "all_words = [] # list of all words. It needs for counting word frequencies\n",
        "for sent in sentences:\n",
        "  words = re.sub(r'[^a-z0-9\\s]', ' ', sent.lower()).split()\n",
        "  all_words += words\n",
        "  for i in range(0, len(words)-n_before):\n",
        "    data.append(' '.join(words[i:i+n_before+1]))"
      ],
      "metadata": {
        "id": "QDAYpaw7WOiX"
      },
      "execution_count": null,
      "outputs": []
    },
    {
      "cell_type": "code",
      "source": [
        "data[:5]"
      ],
      "metadata": {
        "colab": {
          "base_uri": "https://localhost:8080/"
        },
        "id": "f5lYv_2ijY88",
        "outputId": "1f46b345-305b-4670-ca84-fab9e6170bbe"
      },
      "execution_count": null,
      "outputs": [
        {
          "output_type": "execute_result",
          "data": {
            "text/plain": [
              "['i looked at', 'looked at my', 'at my notes', 'my notes and', 'notes and i']"
            ]
          },
          "metadata": {},
          "execution_count": 33
        }
      ]
    },
    {
      "cell_type": "code",
      "source": [
        "print(f\"Total number of n-gramms: {len(data)}\")"
      ],
      "metadata": {
        "colab": {
          "base_uri": "https://localhost:8080/"
        },
        "id": "H7fsnwq8YXkp",
        "outputId": "cebb47c2-adcc-4171-b34c-1d205b84e5cd"
      },
      "execution_count": null,
      "outputs": [
        {
          "output_type": "stream",
          "name": "stdout",
          "text": [
            "Total number of n-gramms: 58981\n"
          ]
        }
      ]
    },
    {
      "cell_type": "markdown",
      "source": [
        "Next, we want to replace the words with frequency <= words_freq_thr by the appropriate filler - filler_for_rare_words"
      ],
      "metadata": {
        "id": "CObdCEyfBZBO"
      }
    },
    {
      "cell_type": "code",
      "source": [
        "# use class FreqDist from nltk library for counting word frequencies\n",
        "freq = FreqDist(all_words)"
      ],
      "metadata": {
        "id": "DE2GeJCZjpuq"
      },
      "execution_count": null,
      "outputs": []
    },
    {
      "cell_type": "code",
      "source": [
        "vocabulary = [pair[0] for pair in freq.most_common() if pair[1] > words_freq_thr] # leave word with frequency > words_freq_thr"
      ],
      "metadata": {
        "id": "rFK0TVZKkgxy"
      },
      "execution_count": null,
      "outputs": []
    },
    {
      "cell_type": "code",
      "source": [
        "len(vocabulary), len(freq) # compare the new vocabulary's length with the old one's length."
      ],
      "metadata": {
        "colab": {
          "base_uri": "https://localhost:8080/"
        },
        "id": "MdFFwHsLmCOU",
        "outputId": "6eccc962-b7e5-4d1e-c369-0b96ef746beb"
      },
      "execution_count": null,
      "outputs": [
        {
          "output_type": "execute_result",
          "data": {
            "text/plain": [
              "(2542, 7363)"
            ]
          },
          "metadata": {},
          "execution_count": 37
        }
      ]
    },
    {
      "cell_type": "code",
      "source": [
        "# replace rare words (words that aren't in the new vocabulary)by filler - filler_for_rare_words\n",
        "for idx, collacation in enumerate(data):\n",
        "  new = []\n",
        "  for word in collacation.split():\n",
        "    if word in vocabulary:\n",
        "      new.append(word)\n",
        "    else:\n",
        "      new.append(filler_for_rare_words)\n",
        "  data[idx] = ' '.join(new)"
      ],
      "metadata": {
        "id": "GF6AaLLlmJrm"
      },
      "execution_count": null,
      "outputs": []
    },
    {
      "cell_type": "code",
      "source": [
        "# use class TextVectorization to transform n-gramms to the sets of integer numbers (integer numbers ara indices of the words in the vocabulary)\n",
        "text_vectorization = TextVectorization()\n",
        "text_vectorization.adapt(data, batch_size=64)\n",
        "sentences_indices = text_vectorization(data)\n",
        "sentences_indices.shape"
      ],
      "metadata": {
        "colab": {
          "base_uri": "https://localhost:8080/"
        },
        "id": "0CIFziPC6PlY",
        "outputId": "d66361c0-9ba1-471d-e3cc-462e25eac376"
      },
      "execution_count": null,
      "outputs": [
        {
          "output_type": "execute_result",
          "data": {
            "text/plain": [
              "TensorShape([58981, 3])"
            ]
          },
          "metadata": {},
          "execution_count": 39
        }
      ]
    },
    {
      "cell_type": "code",
      "source": [
        "vocabulary = text_vectorization.get_vocabulary()"
      ],
      "metadata": {
        "id": "zz6GTMTHdYEm"
      },
      "execution_count": null,
      "outputs": []
    },
    {
      "cell_type": "code",
      "source": [
        "vocabulary[:10]"
      ],
      "metadata": {
        "colab": {
          "base_uri": "https://localhost:8080/"
        },
        "id": "Bm6T7lHcnqq-",
        "outputId": "8b1175e8-e274-4b7e-e7db-9760126c2562"
      },
      "execution_count": null,
      "outputs": [
        {
          "output_type": "execute_result",
          "data": {
            "text/plain": [
              "['', '[UNK]', 'rareword', 'the', 'and', 'of', 'a', 'to', 'you', 'in']"
            ]
          },
          "metadata": {},
          "execution_count": 41
        }
      ]
    },
    {
      "cell_type": "code",
      "source": [
        "X, y = sentences_indices[:, :n_before].numpy(), sentences_indices[:, n_before].numpy() # The first n_before columns is X and the last column is target"
      ],
      "metadata": {
        "id": "NRtMLi6-Z00q"
      },
      "execution_count": null,
      "outputs": []
    },
    {
      "cell_type": "code",
      "source": [
        "X_train, X_test, y_train, y_test = train_test_split(X, y, test_size=0.2) # split on train and test datasets"
      ],
      "metadata": {
        "id": "vZ1b1_D20ABz"
      },
      "execution_count": null,
      "outputs": []
    },
    {
      "cell_type": "code",
      "source": [
        "# make a NN according to the paper\n",
        "def NPLM(input_shape, vocabulary, embedding_dim, h):\n",
        "  inputs = Input(input_shape)\n",
        "  x = Embedding(input_dim=len(vocabulary), output_dim=embedding_dim)(inputs)\n",
        "  x = Flatten()(x)\n",
        "  out1 = Dense(units=h, use_bias=True)(x)\n",
        "  out1 = tf.math.tanh(out1)\n",
        "  out1 = Dense(units=len(vocabulary), use_bias=False)(out1)\n",
        "  out2 = Dense(units=len(vocabulary), use_bias=True)(x)\n",
        "  y = out1 + out2\n",
        "  prob = softmax(y)\n",
        "  model = Model(inputs=inputs, outputs=prob)\n",
        "  return model"
      ],
      "metadata": {
        "id": "aOlfpu-Ia63j"
      },
      "execution_count": null,
      "outputs": []
    },
    {
      "cell_type": "code",
      "source": [
        "model = NPLM(input_shape=((n_before)), vocabulary=vocabulary, embedding_dim=m, h=h)\n",
        "model.summary()"
      ],
      "metadata": {
        "colab": {
          "base_uri": "https://localhost:8080/"
        },
        "id": "lAv-9iYQa7AO",
        "outputId": "f8ffb870-1ece-4dae-f7f4-27671ddeb117"
      },
      "execution_count": null,
      "outputs": [
        {
          "output_type": "stream",
          "name": "stdout",
          "text": [
            "Model: \"model\"\n",
            "__________________________________________________________________________________________________\n",
            " Layer (type)                   Output Shape         Param #     Connected to                     \n",
            "==================================================================================================\n",
            " input_1 (InputLayer)           [(None, 2)]          0           []                               \n",
            "                                                                                                  \n",
            " embedding (Embedding)          (None, 2, 20)        50860       ['input_1[0][0]']                \n",
            "                                                                                                  \n",
            " flatten (Flatten)              (None, 40)           0           ['embedding[0][0]']              \n",
            "                                                                                                  \n",
            " dense (Dense)                  (None, 30)           1230        ['flatten[0][0]']                \n",
            "                                                                                                  \n",
            " tf.math.tanh (TFOpLambda)      (None, 30)           0           ['dense[0][0]']                  \n",
            "                                                                                                  \n",
            " dense_1 (Dense)                (None, 2543)         76290       ['tf.math.tanh[0][0]']           \n",
            "                                                                                                  \n",
            " dense_2 (Dense)                (None, 2543)         104263      ['flatten[0][0]']                \n",
            "                                                                                                  \n",
            " tf.__operators__.add (TFOpLamb  (None, 2543)        0           ['dense_1[0][0]',                \n",
            " da)                                                              'dense_2[0][0]']                \n",
            "                                                                                                  \n",
            " tf.nn.softmax (TFOpLambda)     (None, 2543)         0           ['tf.__operators__.add[0][0]']   \n",
            "                                                                                                  \n",
            "==================================================================================================\n",
            "Total params: 232,643\n",
            "Trainable params: 232,643\n",
            "Non-trainable params: 0\n",
            "__________________________________________________________________________________________________\n"
          ]
        }
      ]
    },
    {
      "cell_type": "code",
      "source": [
        "model.compile(loss='sparse_categorical_crossentropy', metrics=['sparse_categorical_accuracy'])\n",
        "history = model.fit(X_train, y_train,\n",
        "                    epochs=10,\n",
        "                    batch_size=32,\n",
        "                    validation_data=(X_test, y_test)\n",
        "                    )"
      ],
      "metadata": {
        "colab": {
          "base_uri": "https://localhost:8080/"
        },
        "id": "vm-cSu7LnEKg",
        "outputId": "af0f7a3d-80f6-467c-9aef-6bf9a65c1d56"
      },
      "execution_count": null,
      "outputs": [
        {
          "output_type": "stream",
          "name": "stdout",
          "text": [
            "Epoch 1/10\n",
            "1475/1475 [==============================] - 18s 12ms/step - loss: 6.2030 - sparse_categorical_accuracy: 0.0940 - val_loss: 5.7894 - val_sparse_categorical_accuracy: 0.1095\n",
            "Epoch 2/10\n",
            "1475/1475 [==============================] - 19s 13ms/step - loss: 5.6440 - sparse_categorical_accuracy: 0.1236 - val_loss: 5.5438 - val_sparse_categorical_accuracy: 0.1354\n",
            "Epoch 3/10\n",
            "1475/1475 [==============================] - 18s 12ms/step - loss: 5.4753 - sparse_categorical_accuracy: 0.1393 - val_loss: 5.4747 - val_sparse_categorical_accuracy: 0.1403\n",
            "Epoch 4/10\n",
            "1475/1475 [==============================] - 16s 11ms/step - loss: 5.4102 - sparse_categorical_accuracy: 0.1469 - val_loss: 5.4380 - val_sparse_categorical_accuracy: 0.1462\n",
            "Epoch 5/10\n",
            "1475/1475 [==============================] - 15s 10ms/step - loss: 5.3583 - sparse_categorical_accuracy: 0.1521 - val_loss: 5.4178 - val_sparse_categorical_accuracy: 0.1473\n",
            "Epoch 6/10\n",
            "1475/1475 [==============================] - 18s 12ms/step - loss: 5.3155 - sparse_categorical_accuracy: 0.1566 - val_loss: 5.3994 - val_sparse_categorical_accuracy: 0.1483\n",
            "Epoch 7/10\n",
            "1475/1475 [==============================] - 18s 12ms/step - loss: 5.2779 - sparse_categorical_accuracy: 0.1606 - val_loss: 5.3879 - val_sparse_categorical_accuracy: 0.1538\n",
            "Epoch 8/10\n",
            "1475/1475 [==============================] - 13s 9ms/step - loss: 5.2415 - sparse_categorical_accuracy: 0.1634 - val_loss: 5.3668 - val_sparse_categorical_accuracy: 0.1557\n",
            "Epoch 9/10\n",
            "1475/1475 [==============================] - 13s 9ms/step - loss: 5.2115 - sparse_categorical_accuracy: 0.1675 - val_loss: 5.3642 - val_sparse_categorical_accuracy: 0.1530\n",
            "Epoch 10/10\n",
            "1475/1475 [==============================] - 13s 9ms/step - loss: 5.1843 - sparse_categorical_accuracy: 0.1687 - val_loss: 5.3588 - val_sparse_categorical_accuracy: 0.1560\n"
          ]
        }
      ]
    },
    {
      "cell_type": "code",
      "source": [
        "from nltk.downloader import Label\n",
        "# plot Perplexity metrics on train and test datasets\n",
        "_, _ = plt.subplots(1, 1)\n",
        "sns.lineplot(data=np.exp(history.history['loss']), label='perplexity on the train dataset')\n",
        "sns.lineplot(data=np.exp(history.history['val_loss']), label='perplexity on the test dataset')\n",
        "plt.xlabel('Epochs')\n",
        "plt.ylabel('Perplexity')\n",
        "plt.legend()\n",
        "plt.show()"
      ],
      "metadata": {
        "colab": {
          "base_uri": "https://localhost:8080/",
          "height": 449
        },
        "id": "_ZKrP4eM90wO",
        "outputId": "32a76ed2-a363-462f-d0eb-c6bbf4f6eeb4"
      },
      "execution_count": 61,
      "outputs": [
        {
          "output_type": "display_data",
          "data": {
            "text/plain": [
              "<Figure size 640x480 with 1 Axes>"
            ],
            "image/png": "[encoded data removed]"
          },
          "metadata": {}
        }
      ]
    },
    {
      "cell_type": "code",
      "source": [],
      "metadata": {
        "id": "cnqpFfCulQih"
      },
      "execution_count": null,
      "outputs": []
    }
  ]
}